{
 "cells": [
  {
   "cell_type": "code",
   "execution_count": 1,
   "metadata": {},
   "outputs": [],
   "source": [
    "import torch \n",
    "from torch_geometric.nn import GCNConv\n",
    "from torch_geometric.nn import VGAE, global_mean_pool\n",
    "import os"
   ]
  },
  {
   "cell_type": "code",
   "execution_count": 2,
   "metadata": {},
   "outputs": [],
   "source": [
    "class ContactMapEncoder(torch.nn.Module):\n",
    "    def __init__(self, in_channel, out_channels):\n",
    "        super(ContactMapEncoder, self).__init__()\n",
    "        \n",
    "        # Define GCNConv layers for mean and log standard deviation\n",
    "        self.conv_mu = GCNConv(in_channel, out_channels)\n",
    "        self.conv_logstd = GCNConv(in_channel, out_channels)\n",
    "\n",
    "    def forward(self, x, edge_index):\n",
    "        # Compute latent mean (mu)\n",
    "        z_mu = self.conv_mu(x, edge_index)\n",
    "\n",
    "        # Compute latent log standard deviation (logstd) with Softplus\n",
    "        z_logstd = self.conv_logstd(x, edge_index)\n",
    "\n",
    "        return z_mu, z_logstd"
   ]
  },
  {
   "cell_type": "code",
   "execution_count": 3,
   "metadata": {},
   "outputs": [
    {
     "data": {
      "text/plain": [
       "<All keys matched successfully>"
      ]
     },
     "execution_count": 3,
     "metadata": {},
     "output_type": "execute_result"
    }
   ],
   "source": [
    "# parameters\n",
    "num_features = 1024\n",
    "out_channels = 200\n",
    "\n",
    "device = torch.device('cuda' if torch.cuda.is_available() else 'cpu')\n",
    "device = 'cpu'\n",
    "# model\n",
    "model = VGAE(ContactMapEncoder(num_features, out_channels))\n",
    "\n",
    "# move to GPU \n",
    "model = model.to(device)\n",
    "model.load_state_dict(torch.load('D:\\\\year 4\\\\semester 1\\\\BT\\\\BT 4033\\\\structure and seq\\\\newVGAE_GCN.pt', weights_only=True))# inizialize the optimizer\n",
    "# optimizer = torch.optim.Adam(model.parameters(), lr=0.001)\n",
    "\n",
    "# print(model)"
   ]
  },
  {
   "cell_type": "code",
   "execution_count": 4,
   "metadata": {},
   "outputs": [],
   "source": [
    "def genPoolEmbedd(data):\n",
    "    model.eval()\n",
    "    with torch.no_grad():\n",
    "        graph_embedd = model.encode(data.x, data.edge_index)\n",
    "        pooled = global_mean_pool(graph_embedd, torch.zeros(graph_embedd.shape[0], dtype=torch.long)).flatten()\n",
    "    return pooled"
   ]
  },
  {
   "cell_type": "code",
   "execution_count": 5,
   "metadata": {},
   "outputs": [],
   "source": [
    "# Set the folder path and the number of files to select\n",
    "folder_path = 'D:\\\\year 4\\\\semester 1\\\\BT\\\\BT 4033\\\\structure and seq\\\\aug\\\\'\n",
    "\n",
    "# Get the list of all files in the folder\n",
    "all_files = os.listdir(folder_path)\n",
    "\n",
    "# Filter out any non-files (like directories)\n",
    "all_files = [f for f in all_files if os.path.isfile(os.path.join(folder_path, f))]"
   ]
  },
  {
   "cell_type": "code",
   "execution_count": null,
   "metadata": {},
   "outputs": [],
   "source": [
    "saving_path = 'D:\\\\year 4\\\\semester 1\\\\BT\\\\BT 4033\\\\structure and seq\\\\pool\\\\'"
   ]
  },
  {
   "cell_type": "code",
   "execution_count": 7,
   "metadata": {},
   "outputs": [],
   "source": [
    "for map in all_files:\n",
    "    data = torch.load(folder_path+map)\n",
    "    pooled = genPoolEmbedd(data)\n",
    "    torch.save(pooled, f'{saving_path}{map}')"
   ]
  },
  {
   "cell_type": "code",
   "execution_count": null,
   "metadata": {},
   "outputs": [],
   "source": []
  }
 ],
 "metadata": {
  "kernelspec": {
   "display_name": "ppi_dl",
   "language": "python",
   "name": "python3"
  },
  "language_info": {
   "codemirror_mode": {
    "name": "ipython",
    "version": 3
   },
   "file_extension": ".py",
   "mimetype": "text/x-python",
   "name": "python",
   "nbconvert_exporter": "python",
   "pygments_lexer": "ipython3",
   "version": "3.9.19"
  }
 },
 "nbformat": 4,
 "nbformat_minor": 2
}

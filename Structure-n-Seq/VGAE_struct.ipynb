{
 "cells": [
  {
   "cell_type": "code",
   "execution_count": 1,
   "metadata": {},
   "outputs": [],
   "source": [
    "#libraries\n",
    "import torch \n",
    "from torch_geometric.nn import GCNConv\n",
    "from torch_geometric.nn import VGAE\n",
    "from torch.nn import BatchNorm1d, LeakyReLU, Softplus\n",
    "from torch_geometric.utils import negative_sampling\n",
    "from torch_geometric.loader.neighbor_loader import NeighborLoader\n",
    "import os"
   ]
  },
  {
   "cell_type": "code",
   "execution_count": 2,
   "metadata": {},
   "outputs": [],
   "source": [
    "# Set the folder path and the number of files to select\n",
    "trainfolder_path = 'E:\\\\dat\\\\'\n",
    "\n",
    "# Get the list of all files in the folder\n",
    "all_files = os.listdir(trainfolder_path)\n",
    "\n",
    "# Filter out any non-files (like directories)\n",
    "train_files = [f for f in all_files if os.path.isfile(os.path.join(trainfolder_path, f))]"
   ]
  },
  {
   "cell_type": "code",
   "execution_count": 3,
   "metadata": {},
   "outputs": [],
   "source": [
    "# Set the folder path and the number of files to select\n",
    "testfolder_path = 'E:\\\\test\\\\'\n",
    "num_files_to_select = 50  # Define the number of files you want to select randomly\n",
    "\n",
    "# Get the list of all files in the folder/\n",
    "all_files = os.listdir(testfolder_path)\n",
    "\n",
    "# Filter out any non-files (like directories)\n",
    "test_files = [f for f in all_files if os.path.isfile(os.path.join(testfolder_path, f))]"
   ]
  },
  {
   "cell_type": "code",
   "execution_count": 4,
   "metadata": {},
   "outputs": [],
   "source": [
    "train_dat = [torch.load(f'E:\\\\dat\\\\{file}') for file in train_files]\n",
    "test_dat = [torch.load(f'E:\\\\test\\\\{file}') for file in test_files]"
   ]
  },
  {
   "cell_type": "code",
   "execution_count": 5,
   "metadata": {},
   "outputs": [],
   "source": [
    "for data in train_dat:\n",
    "    neigh_samp = NeighborLoader(data, num_neighbors=[-1,-1,-1], subgraph_type='bidirectional')\n",
    "    "
   ]
  },
  {
   "cell_type": "code",
   "execution_count": null,
   "metadata": {},
   "outputs": [],
   "source": []
  },
  {
   "cell_type": "code",
   "execution_count": null,
   "metadata": {},
   "outputs": [],
   "source": []
  },
  {
   "cell_type": "code",
   "execution_count": null,
   "metadata": {},
   "outputs": [],
   "source": [
    "class ContactMapEncoder(torch.nn.Module):\n",
    "    def __init__(self, in_channel, out_channels):\n",
    "        super(ContactMapEncoder, self).__init__()\n",
    "        \n",
    "        # Define GCNConv layers for mean and log standard deviation\n",
    "        self.conv_mu = GCNConv(in_channel, out_channels)\n",
    "        self.conv_logstd = GCNConv(in_channel, out_channels)\n",
    "\n",
    "    def forward(self, x, edge_index):\n",
    "        # Compute latent mean (mu)\n",
    "        z_mu = self.conv_mu(x, edge_index)\n",
    "\n",
    "        # Compute latent log standard deviation (logstd) with Softplus\n",
    "        z_logstd = self.conv_logstd(x, edge_index)\n",
    "\n",
    "        return z_mu, z_logstd"
   ]
  },
  {
   "cell_type": "code",
   "execution_count": 22,
   "metadata": {},
   "outputs": [
    {
     "name": "stdout",
     "output_type": "stream",
     "text": [
      "VGAE(\n",
      "  (encoder): ContactMapEncoder(\n",
      "    (conv_mu): GCNConv(1024, 200)\n",
      "    (conv_logstd): GCNConv(1024, 200)\n",
      "  )\n",
      "  (decoder): InnerProductDecoder()\n",
      ")\n"
     ]
    }
   ],
   "source": [
    "# parameters\n",
    "num_features = 1024\n",
    "out_channels = 200\n",
    "\n",
    "device = torch.device('cuda' if torch.cuda.is_available() else 'cpu')\n",
    "device = 'cpu'\n",
    "# model\n",
    "model = VGAE(ContactMapEncoder(num_features, out_channels))\n",
    "\n",
    "# move to GPU \n",
    "model = model.to(device)\n",
    "\n",
    "# inizialize the optimizer\n",
    "optimizer = torch.optim.Adam(model.parameters(), lr=0.001)\n",
    "\n",
    "print(model)"
   ]
  },
  {
   "cell_type": "code",
   "execution_count": 11,
   "metadata": {},
   "outputs": [
    {
     "name": "stdout",
     "output_type": "stream",
     "text": [
      "Model Summary:\n",
      "\n",
      "Model Parameters:\n",
      "encoder.conv1.bias: 512 parameters\n",
      "encoder.conv1.lin.weight: 524288 parameters\n",
      "encoder.conv_mu.bias: 256 parameters\n",
      "encoder.conv_mu.lin.weight: 131072 parameters\n",
      "encoder.conv_logstd.bias: 256 parameters\n",
      "encoder.conv_logstd.lin.weight: 131072 parameters\n",
      "encoder.bn1.weight: 512 parameters\n",
      "encoder.bn1.bias: 512 parameters\n",
      "\n",
      "Total Parameters: 788480\n"
     ]
    }
   ],
   "source": [
    "# Manually print out the model summary\n",
    "def print_model_summary(model):\n",
    "    print(\"Model Summary:\")\n",
    "    print(\"\\nModel Parameters:\")\n",
    "    total_params = 0\n",
    "    for name, param in model.named_parameters():\n",
    "        print(f\"{name}: {param.numel()} parameters\")\n",
    "        total_params += param.numel()\n",
    "    print(f\"\\nTotal Parameters: {total_params}\")\n",
    "\n",
    "print_model_summary(model)"
   ]
  },
  {
   "cell_type": "code",
   "execution_count": 14,
   "metadata": {},
   "outputs": [],
   "source": [
    "def train(data, beta=1):  #take graph data obj as input\n",
    "    model.train()\n",
    "    optimizer.zero_grad()\n",
    "    z = model.encode(data.x, data.edge_index)\n",
    "    loss = model.recon_loss(z, data.edge_index)\n",
    "    loss = loss + beta * (1 / data.num_nodes) * model.kl_loss()\n",
    "    loss.backward()\n",
    "    optimizer.step()\n",
    "    return float(loss)\n",
    "\n",
    "def test():\n",
    "    model.eval()\n",
    "    with torch.no_grad():\n",
    "        aucs = []\n",
    "        for data in test_dat:\n",
    "            data.to(device)\n",
    "            neg = negative_sampling(data.edge_index, num_nodes= data.num_nodes, force_undirected=True)\n",
    "            z = model.encode(data.x, data.edge_index)\n",
    "            auc, ap = model.test(z, data.edge_index, neg)\n",
    "            aucs.append(auc)\n",
    "        print(torch.mean(torch.tensor(aucs)))"
   ]
  },
  {
   "cell_type": "code",
   "execution_count": 15,
   "metadata": {},
   "outputs": [
    {
     "name": "stdout",
     "output_type": "stream",
     "text": [
      "train loss 14.852560997009277\n",
      "\n",
      "tensor(0.8348, dtype=torch.float64)\n",
      "\n"
     ]
    }
   ],
   "source": [
    "for epoch in neigh_samp:\n",
    "    mini_loss = train(data)\n",
    "    print(f'train loss {mini_loss}') \n",
    "    print('')\n",
    "    test()\n",
    "    print('')\n",
    "    inp = input('next epoch ?')\n",
    "    if inp == 'n':\n",
    "        break\n",
    "    else:\n",
    "        torch.save(model.state_dict(), 'newVGAE_GCN.pt')"
   ]
  },
  {
   "cell_type": "code",
   "execution_count": null,
   "metadata": {},
   "outputs": [],
   "source": [
    "torch.save(model.state_dict(), '/home/hpc_users/2019s17273@stu.cmb.ac.lk/sachintha/structure/VGAE_GCN.pt')"
   ]
  },
  {
   "cell_type": "code",
   "execution_count": null,
   "metadata": {},
   "outputs": [],
   "source": []
  }
 ],
 "metadata": {
  "kernelspec": {
   "display_name": "ppi_dl",
   "language": "python",
   "name": "python3"
  },
  "language_info": {
   "codemirror_mode": {
    "name": "ipython",
    "version": 3
   },
   "file_extension": ".py",
   "mimetype": "text/x-python",
   "name": "python",
   "nbconvert_exporter": "python",
   "pygments_lexer": "ipython3",
   "version": "3.9.19"
  }
 },
 "nbformat": 4,
 "nbformat_minor": 2
}

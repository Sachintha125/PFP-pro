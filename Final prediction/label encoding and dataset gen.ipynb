{
 "cells": [
  {
   "cell_type": "code",
   "execution_count": 1,
   "metadata": {},
   "outputs": [],
   "source": [
    "import pickle\n",
    "import os\n",
    "import torch"
   ]
  },
  {
   "cell_type": "code",
   "execution_count": 23,
   "metadata": {},
   "outputs": [],
   "source": [
    "with open('d:\\\\year 4\\\\semester 1\\\\BT\\\\BT 4033\\\\prediction\\\\GO terms\\\\chains and cc_go terms.pkl', 'rb') as f:\n",
    "    chains_n_cc = pickle.load(f)    # capital ids "
   ]
  },
  {
   "cell_type": "code",
   "execution_count": 24,
   "metadata": {},
   "outputs": [],
   "source": [
    "pdb_n_cc = dict()\n",
    "for k, v in chains_n_cc.items():\n",
    "    pdb_n_cc[k.split('_')[0]] = v   # capital ids "
   ]
  },
  {
   "cell_type": "code",
   "execution_count": 4,
   "metadata": {},
   "outputs": [],
   "source": [
    "with open('d:\\\\year 4\\\\semester 1\\\\BT\\\\BT 4033\\\\prediction\\\\labels\\\\pdb_uniprot_map_dict.pkl', 'rb') as f:\n",
    "    pdb_uni_map = pickle.load(f)    # simple pdb, capital uni"
   ]
  },
  {
   "cell_type": "code",
   "execution_count": 5,
   "metadata": {},
   "outputs": [],
   "source": [
    "with open('d:\\\\year 4\\\\semester 1\\\\BT\\\\BT 4033\\\\ppi_part\\\\ppi_vgae_embedds_dict', 'rb') as f:\n",
    "    ppi_embedd = pickle.load(f) # capital uni ids "
   ]
  },
  {
   "cell_type": "code",
   "execution_count": 6,
   "metadata": {},
   "outputs": [],
   "source": [
    "# Set the folder path and the number of files to select\n",
    "pooledmap_path = 'D:\\\\year 4\\\\semester 1\\\\BT\\\\BT 4033\\\\structure and seq\\\\pooled maps\\\\'\n",
    "\n",
    "# Get the list of all files in the folder\n",
    "all_files = os.listdir(pooledmap_path)\n",
    "\n",
    "# Filter out any non-files (like directories)\n",
    "all_pool_files = [f for f in all_files if os.path.isfile(os.path.join(pooledmap_path, f))]"
   ]
  },
  {
   "cell_type": "code",
   "execution_count": 25,
   "metadata": {},
   "outputs": [],
   "source": [
    "dataset = dict()\n",
    "for pool in all_pool_files:\n",
    "    pdb_id = pool.split('_')[0]\n",
    "    try:\n",
    "        go_terms = pdb_n_cc[pdb_id.upper()]\n",
    "        uniprot_id = pdb_uni_map[pdb_id]\n",
    "        ppi_vect = ppi_embedd[uniprot_id]\n",
    "        pooled = torch.load(pooledmap_path+pool).tolist()\n",
    "        concat = pooled + ppi_vect\n",
    "        dataset[pool.split('.')[0]] = {'terms': go_terms,\n",
    "                           'vect': concat}\n",
    "    except:\n",
    "        continue"
   ]
  },
  {
   "cell_type": "code",
   "execution_count": 27,
   "metadata": {},
   "outputs": [
    {
     "data": {
      "text/plain": [
       "13813"
      ]
     },
     "execution_count": 27,
     "metadata": {},
     "output_type": "execute_result"
    }
   ],
   "source": [
    "len(dataset)"
   ]
  },
  {
   "cell_type": "code",
   "execution_count": 28,
   "metadata": {},
   "outputs": [],
   "source": [
    "init_label_counts = dict()\n",
    "for v in dataset.values():\n",
    "    for term in v['terms']:\n",
    "        if term in init_label_counts.keys():\n",
    "            init_label_counts[term] += 1\n",
    "        else:\n",
    "            init_label_counts[term] = 1"
   ]
  },
  {
   "cell_type": "code",
   "execution_count": 29,
   "metadata": {},
   "outputs": [
    {
     "data": {
      "text/plain": [
       "76"
      ]
     },
     "execution_count": 29,
     "metadata": {},
     "output_type": "execute_result"
    }
   ],
   "source": [
    "cc_terms_over_50 = set(k for k, v in init_label_counts.items() if v >= 50)\n",
    "len(cc_terms_over_50)"
   ]
  },
  {
   "cell_type": "code",
   "execution_count": 30,
   "metadata": {},
   "outputs": [
    {
     "data": {
      "text/plain": [
       "13753"
      ]
     },
     "execution_count": 30,
     "metadata": {},
     "output_type": "execute_result"
    }
   ],
   "source": [
    "filterd_labels_and_inputs = dict()\n",
    "for k, v in dataset.items():\n",
    "    label_intersect = set(v['terms']).intersection(cc_terms_over_50)\n",
    "    if len(label_intersect) != 0:\n",
    "        filterd_labels_and_inputs[k] = {'terms': list(label_intersect),\n",
    "                                        'vect': v['vect']}\n",
    "len(filterd_labels_and_inputs)"
   ]
  },
  {
   "cell_type": "code",
   "execution_count": 31,
   "metadata": {},
   "outputs": [],
   "source": [
    "labels_set = [v['terms'] for v in filterd_labels_and_inputs.values()]"
   ]
  },
  {
   "cell_type": "code",
   "execution_count": 32,
   "metadata": {},
   "outputs": [],
   "source": [
    "from sklearn.preprocessing import MultiLabelBinarizer\n",
    "mlb = MultiLabelBinarizer()\n",
    "binary_labels = mlb.fit_transform(labels_set)"
   ]
  },
  {
   "cell_type": "code",
   "execution_count": 33,
   "metadata": {},
   "outputs": [
    {
     "data": {
      "text/plain": [
       "(13753, 76)"
      ]
     },
     "execution_count": 33,
     "metadata": {},
     "output_type": "execute_result"
    }
   ],
   "source": [
    "binary_labels.shape"
   ]
  },
  {
   "cell_type": "code",
   "execution_count": 54,
   "metadata": {},
   "outputs": [
    {
     "data": {
      "text/plain": [
       "array(['GO:0005634', 'GO:0005737', 'GO:0005829', 'GO:0005886'],\n",
       "      dtype=object)"
      ]
     },
     "execution_count": 54,
     "metadata": {},
     "output_type": "execute_result"
    }
   ],
   "source": [
    "mlb.classes_"
   ]
  },
  {
   "cell_type": "code",
   "execution_count": 34,
   "metadata": {},
   "outputs": [
    {
     "data": {
      "text/plain": [
       "array([[0, 0, 0, ..., 0, 0, 0],\n",
       "       [0, 0, 0, ..., 0, 0, 0],\n",
       "       [0, 0, 0, ..., 0, 0, 0],\n",
       "       ...,\n",
       "       [0, 0, 0, ..., 0, 0, 0],\n",
       "       [0, 0, 0, ..., 0, 0, 0],\n",
       "       [0, 0, 0, ..., 0, 0, 0]])"
      ]
     },
     "execution_count": 34,
     "metadata": {},
     "output_type": "execute_result"
    }
   ],
   "source": [
    "binary_labels"
   ]
  },
  {
   "cell_type": "code",
   "execution_count": 35,
   "metadata": {},
   "outputs": [],
   "source": [
    "with open('cc_terms_class_order.pkl', 'wb') as f:\n",
    "    pickle.dump(mlb.classes_.tolist(), f)"
   ]
  },
  {
   "cell_type": "code",
   "execution_count": 36,
   "metadata": {},
   "outputs": [],
   "source": [
    "i = 0\n",
    "for v in filterd_labels_and_inputs.values():\n",
    "    v['enc_label'] = binary_labels[i].tolist()\n",
    "    i += 1"
   ]
  },
  {
   "cell_type": "code",
   "execution_count": 37,
   "metadata": {},
   "outputs": [],
   "source": [
    "with open('cc_dataset.pkl', 'wb') as f:\n",
    "    pickle.dump(filterd_labels_and_inputs, f)"
   ]
  },
  {
   "cell_type": "code",
   "execution_count": null,
   "metadata": {},
   "outputs": [],
   "source": []
  }
 ],
 "metadata": {
  "kernelspec": {
   "display_name": "ppi_dl",
   "language": "python",
   "name": "python3"
  },
  "language_info": {
   "codemirror_mode": {
    "name": "ipython",
    "version": 3
   },
   "file_extension": ".py",
   "mimetype": "text/x-python",
   "name": "python",
   "nbconvert_exporter": "python",
   "pygments_lexer": "ipython3",
   "version": "3.9.19"
  }
 },
 "nbformat": 4,
 "nbformat_minor": 2
}
